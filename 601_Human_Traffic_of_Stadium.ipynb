{
  "nbformat": 4,
  "nbformat_minor": 0,
  "metadata": {
    "colab": {
      "provenance": [],
      "authorship_tag": "ABX9TyNy+6PmuIUUlrX8N8zCRQ+5"
    },
    "kernelspec": {
      "name": "python3",
      "display_name": "Python 3"
    },
    "language_info": {
      "name": "python"
    }
  },
  "cells": [
    {
      "cell_type": "code",
      "execution_count": null,
      "metadata": {
        "id": "ZozevbJE8H0G"
      },
      "outputs": [],
      "source": [
        "# Write your MySQL query statement below\n",
        "with filtered as(\n",
        "    SELECT id, visit_date, people FROM Stadium\n",
        "    WHERE people >= 100\n",
        "),\n",
        "\n",
        "numbered as (\n",
        "    SELECT id, visit_date, people, row_number() over(order by id) as rn FROM filtered\n",
        "),\n",
        "\n",
        "grp as (\n",
        "    SELECT id, visit_date, people, id-rn as grp_n FROM numbered\n",
        "),\n",
        "\n",
        "req_grp as(\n",
        "    SELECT grp_n FROM grp\n",
        "    GROUP BY grp_n HAVING count(*) > 2\n",
        ")\n",
        "SELECT id, visit_date, people FROM grp WHERE grp_n IN (SELECT grp_n FROM req_grp)"
      ]
    }
  ]
}