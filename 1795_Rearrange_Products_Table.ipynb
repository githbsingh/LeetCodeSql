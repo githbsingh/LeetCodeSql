{
  "nbformat": 4,
  "nbformat_minor": 0,
  "metadata": {
    "colab": {
      "provenance": [],
      "authorship_tag": "ABX9TyMB5bDyCck9KyZH6XWY5Guu"
    },
    "kernelspec": {
      "name": "python3",
      "display_name": "Python 3"
    },
    "language_info": {
      "name": "python"
    }
  },
  "cells": [
    {
      "cell_type": "code",
      "execution_count": null,
      "metadata": {
        "id": "oC0qDo4KJysE"
      },
      "outputs": [],
      "source": [
        "SELECT product_id,\n",
        "    CASE\n",
        "        WHEN store1 IS NOT NULL THEN 'store1'\n",
        "        END as store,\n",
        "    CASE\n",
        "        WHEN store1 IS NOT NULL THEN store1\n",
        "    END as price\n",
        "FROM Products\n",
        "WHERE store1 IS NOT NULL\n",
        "\n",
        "UNION\n",
        "SELECT product_id,\n",
        "    CASE\n",
        "        WHEN store2 IS NOT NULL THEN 'store2'\n",
        "        END as store,\n",
        "    CASE\n",
        "        WHEN store2 IS NOT NULL THEN store2\n",
        "    END as price\n",
        "FROM Products\n",
        "WHERE store2 IS NOT NULL\n",
        "\n",
        "UNION\n",
        "SELECT product_id,\n",
        "    CASE\n",
        "        WHEN store3 IS NOT NULL THEN 'store3'\n",
        "        END as store,\n",
        "    CASE\n",
        "        WHEN store3 IS NOT NULL THEN store3\n",
        "    END as price\n",
        "FROM Products\n",
        "WHERE store3 IS NOT NULL"
      ]
    }
  ]
}