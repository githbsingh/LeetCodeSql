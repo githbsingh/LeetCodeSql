{
  "nbformat": 4,
  "nbformat_minor": 0,
  "metadata": {
    "colab": {
      "provenance": [],
      "authorship_tag": "ABX9TyMInLahvFMZwXTlUGU1QWho",
      "include_colab_link": true
    },
    "kernelspec": {
      "name": "python3",
      "display_name": "Python 3"
    },
    "language_info": {
      "name": "python"
    }
  },
  "cells": [
    {
      "cell_type": "markdown",
      "metadata": {
        "id": "view-in-github",
        "colab_type": "text"
      },
      "source": [
        "<a href=\"https://colab.research.google.com/github/githbsingh/LeetCodeSql/blob/main/1050_Actors_and_Directors_Who_Cooperated_At_Least_Three_Times.ipynb\" target=\"_parent\"><img src=\"https://colab.research.google.com/assets/colab-badge.svg\" alt=\"Open In Colab\"/></a>"
      ]
    },
    {
      "cell_type": "code",
      "execution_count": null,
      "metadata": {
        "id": "etUzpH4MGhyl"
      },
      "outputs": [],
      "source": [
        "# Write your MySQL query statement below\n",
        "SELECT actor_id, director_id FROM ActorDirector\n",
        "GROUP BY actor_id, director_id\n",
        "HAVING count(*) >=3"
      ]
    }
  ]
}