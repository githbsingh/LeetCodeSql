{
  "nbformat": 4,
  "nbformat_minor": 0,
  "metadata": {
    "colab": {
      "provenance": [],
      "authorship_tag": "ABX9TyM4hVsA7fkMAycAInKK5xI6",
      "include_colab_link": true
    },
    "kernelspec": {
      "name": "python3",
      "display_name": "Python 3"
    },
    "language_info": {
      "name": "python"
    }
  },
  "cells": [
    {
      "cell_type": "markdown",
      "metadata": {
        "id": "view-in-github",
        "colab_type": "text"
      },
      "source": [
        "<a href=\"https://colab.research.google.com/github/githbsingh/LeetCodeSql/blob/main/SQL_LeetCode_1045_Customers_Who_Bought_All_Products.ipynb\" target=\"_parent\"><img src=\"https://colab.research.google.com/assets/colab-badge.svg\" alt=\"Open In Colab\"/></a>"
      ]
    },
    {
      "cell_type": "markdown",
      "source": [],
      "metadata": {
        "id": "k9ChwnaYLA46"
      }
    },
    {
      "cell_type": "markdown",
      "source": [
        "##### Write your MySQL query statement below\n",
        "\n",
        "\n",
        "\n",
        "SELECT customer_id FROM (SELECT customer_id, max(seq_num) as seq_num FROM (SELECT customer_id, product_key, row_number() over(partition by customer_id) as seq_num FROM\n",
        "(SELECT distinct customer_id, product_key FROM customer) as src) as src\n",
        "GROUP BY customer_id) as src WHERE seq_num IN (SELECT count(*) FROM Product)"
      ],
      "metadata": {
        "id": "JtPiqhGZLGbU"
      }
    }
  ]
}