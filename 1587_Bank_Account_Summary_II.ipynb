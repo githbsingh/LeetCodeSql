{
  "nbformat": 4,
  "nbformat_minor": 0,
  "metadata": {
    "colab": {
      "provenance": [],
      "authorship_tag": "ABX9TyOK22FJPahHWVhip3adXYdg",
      "include_colab_link": true
    },
    "kernelspec": {
      "name": "python3",
      "display_name": "Python 3"
    },
    "language_info": {
      "name": "python"
    }
  },
  "cells": [
    {
      "cell_type": "markdown",
      "metadata": {
        "id": "view-in-github",
        "colab_type": "text"
      },
      "source": [
        "<a href=\"https://colab.research.google.com/github/githbsingh/LeetCodeSql/blob/main/1587_Bank_Account_Summary_II.ipynb\" target=\"_parent\"><img src=\"https://colab.research.google.com/assets/colab-badge.svg\" alt=\"Open In Colab\"/></a>"
      ]
    },
    {
      "cell_type": "code",
      "execution_count": null,
      "metadata": {
        "id": "oC0qDo4KJysE"
      },
      "outputs": [],
      "source": [
        "SELECT u.name, src.balance FROM Users u INNER JOIN\n",
        "(SELECT account, sum(amount) as balance FROM Transactions\n",
        "GROUP BY account\n",
        "HAVING sum(amount) > 10000) as src\n",
        "ON u.account=src.account"
      ]
    }
  ]
}