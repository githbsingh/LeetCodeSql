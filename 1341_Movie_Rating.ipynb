{
  "nbformat": 4,
  "nbformat_minor": 0,
  "metadata": {
    "colab": {
      "provenance": [],
      "authorship_tag": "ABX9TyMQ+p2RRZ2jgy4GYAObpQRz",
      "include_colab_link": true
    },
    "kernelspec": {
      "name": "python3",
      "display_name": "Python 3"
    },
    "language_info": {
      "name": "python"
    }
  },
  "cells": [
    {
      "cell_type": "markdown",
      "metadata": {
        "id": "view-in-github",
        "colab_type": "text"
      },
      "source": [
        "<a href=\"https://colab.research.google.com/github/githbsingh/LeetCodeSql/blob/main/1341_Movie_Rating.ipynb\" target=\"_parent\"><img src=\"https://colab.research.google.com/assets/colab-badge.svg\" alt=\"Open In Colab\"/></a>"
      ]
    },
    {
      "cell_type": "markdown",
      "source": [
        "#### Q. 1341. Movie Rating\n",
        "Sol. SELECT name as results FROM (SELECT u.name, count(*) as ratcnt FROM MovieRating mr\n",
        "RIGHT JOIN Users u\n",
        "ON mr.user_id=u.user_id\n",
        "GROUP BY mr.user_id\n",
        "ORDER BY ratcnt desc, u.name ASC\n",
        "LIMIT 1) as src1\n",
        "UNION ALL\n",
        "(SELECT title FROM (SELECT m.title,m.movie_id, avg(rating) as avgrat FROM\n",
        "MovieRating mr INNER JOIN Movies m\n",
        "ON mr.movie_id=m.movie_id\n",
        "WHERE YEAR(created_at) = '2020' AND MONTH(created_at) = '02'\n",
        "GROUP BY m.title\n",
        "ORDER BY avgrat desc, m.title asc LIMIT 1) as src2)"
      ],
      "metadata": {
        "id": "4_qOGBNjJQDo"
      }
    }
  ]
}