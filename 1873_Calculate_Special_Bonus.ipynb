{
  "nbformat": 4,
  "nbformat_minor": 0,
  "metadata": {
    "colab": {
      "provenance": [],
      "authorship_tag": "ABX9TyOp8tk5G22BZr6O3kBSNPHt",
      "include_colab_link": true
    },
    "kernelspec": {
      "name": "python3",
      "display_name": "Python 3"
    },
    "language_info": {
      "name": "python"
    }
  },
  "cells": [
    {
      "cell_type": "markdown",
      "metadata": {
        "id": "view-in-github",
        "colab_type": "text"
      },
      "source": [
        "<a href=\"https://colab.research.google.com/github/githbsingh/LeetCodeSql/blob/main/1873_Calculate_Special_Bonus.ipynb\" target=\"_parent\"><img src=\"https://colab.research.google.com/assets/colab-badge.svg\" alt=\"Open In Colab\"/></a>"
      ]
    },
    {
      "cell_type": "code",
      "execution_count": null,
      "metadata": {
        "id": "oC0qDo4KJysE"
      },
      "outputs": [],
      "source": [
        "# Write your MySQL query statement below\n",
        "SELECT employee_id,\n",
        "    CASE\n",
        "        WHEN name NOT LIKE 'M%' AND MOD(employee_id, 2)=1 THEN salary ELSE 0 END as bonus\n",
        "FROM Employees\n",
        "ORDER BY employee_id"
      ]
    }
  ]
}