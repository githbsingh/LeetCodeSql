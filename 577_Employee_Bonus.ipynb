{
  "nbformat": 4,
  "nbformat_minor": 0,
  "metadata": {
    "colab": {
      "provenance": [],
      "authorship_tag": "ABX9TyNCie7DDrNG1gHIS8E90P2L",
      "include_colab_link": true
    },
    "kernelspec": {
      "name": "python3",
      "display_name": "Python 3"
    },
    "language_info": {
      "name": "python"
    }
  },
  "cells": [
    {
      "cell_type": "markdown",
      "metadata": {
        "id": "view-in-github",
        "colab_type": "text"
      },
      "source": [
        "<a href=\"https://colab.research.google.com/github/githbsingh/LeetCodeSql/blob/main/577_Employee_Bonus.ipynb\" target=\"_parent\"><img src=\"https://colab.research.google.com/assets/colab-badge.svg\" alt=\"Open In Colab\"/></a>"
      ]
    },
    {
      "cell_type": "markdown",
      "source": [
        "#### Q. 577. Employee Bonus\n",
        "Sol. SELECT e.name, bonus FROM Employee e\n",
        "LEFT JOIN Bonus b\n",
        "ON e.empId=b.empId\n",
        "WHERE bonus < 1000 or bonus is null"
      ],
      "metadata": {
        "id": "H5QPZKPJgdLg"
      }
    }
  ]
}