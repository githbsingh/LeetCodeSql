{
  "nbformat": 4,
  "nbformat_minor": 0,
  "metadata": {
    "colab": {
      "provenance": [],
      "authorship_tag": "ABX9TyOfY7yvFVLka8H+h4njgyPp",
      "include_colab_link": true
    },
    "kernelspec": {
      "name": "python3",
      "display_name": "Python 3"
    },
    "language_info": {
      "name": "python"
    }
  },
  "cells": [
    {
      "cell_type": "markdown",
      "metadata": {
        "id": "view-in-github",
        "colab_type": "text"
      },
      "source": [
        "<a href=\"https://colab.research.google.com/github/githbsingh/LeetCodeSql/blob/main/1321_Restaurant_Growth.ipynb\" target=\"_parent\"><img src=\"https://colab.research.google.com/assets/colab-badge.svg\" alt=\"Open In Colab\"/></a>"
      ]
    },
    {
      "cell_type": "markdown",
      "source": [
        "#### 1321. Restaurant Growth\n",
        "Sol. # Write your MySQL query statement below\n",
        "WITH daily_totals AS (\n",
        "    SELECT\n",
        "        visited_on,\n",
        "        SUM(amount) AS daily_amount\n",
        "    FROM\n",
        "        Customer\n",
        "    GROUP BY\n",
        "        visited_on\n",
        ")\n",
        "\n",
        "SELECT * FROM (SELECT visited_on, SUM(daily_amount) OVER (Order by visited_on ROWS BETWEEN 6 PRECEDING AND CURRENT ROW ) as amount,\n",
        "ROUND(AVG(daily_amount) OVER ( ORDER BY visited_on ROWS BETWEEN 6 PRECEDING AND CURRENT ROW),2) as average_amount\n",
        "FROM daily_totals) as src\n",
        "WHERE visited_on >= (SELECT DATE_ADD(min(visited_on), INTERVAL 6 DAY) FROM Customer)"
      ],
      "metadata": {
        "id": "o9_SXeyelYpn"
      }
    },
    {
      "cell_type": "code",
      "source": [],
      "metadata": {
        "id": "ragMBmbn1Dpk"
      },
      "execution_count": null,
      "outputs": []
    }
  ]
}