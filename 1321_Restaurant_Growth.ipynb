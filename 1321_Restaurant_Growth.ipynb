{
  "nbformat": 4,
  "nbformat_minor": 0,
  "metadata": {
    "colab": {
      "provenance": [],
      "authorship_tag": "ABX9TyOPuUNunhpNGY6Bvv/szuHu",
      "include_colab_link": true
    },
    "kernelspec": {
      "name": "python3",
      "display_name": "Python 3"
    },
    "language_info": {
      "name": "python"
    }
  },
  "cells": [
    {
      "cell_type": "markdown",
      "metadata": {
        "id": "view-in-github",
        "colab_type": "text"
      },
      "source": [
        "<a href=\"https://colab.research.google.com/github/githbsingh/LeetCodeSql/blob/main/1321_Restaurant_Growth.ipynb\" target=\"_parent\"><img src=\"https://colab.research.google.com/assets/colab-badge.svg\" alt=\"Open In Colab\"/></a>"
      ]
    },
    {
      "cell_type": "code",
      "execution_count": null,
      "metadata": {
        "id": "0bK0XgjxlRQI"
      },
      "outputs": [],
      "source": []
    },
    {
      "cell_type": "markdown",
      "source": [
        "#### 1321. Restaurant Growth\n",
        "Sol. # Write your MySQL query statement below\n",
        "SELECT visited_on, amount, average_amount FROM (SELECT\n",
        "    a.visited_on AS window_start,\n",
        "    DATE_ADD(a.visited_on, INTERVAL 6 DAY) AS visited_on,\n",
        "    #b.amount,\n",
        "    SUM(b.amount) AS amount,\n",
        "    round(SUM(b.amount)/7,2) AS average_amount\n",
        "FROM Customer a\n",
        "JOIN Customer b\n",
        "    ON b.visited_on BETWEEN a.visited_on AND DATE_ADD(a.visited_on, INTERVAL 6 DAY)\n",
        "#GROUP BY a.visited_on\n",
        "GROUP BY a.visited_on) src\n",
        "\n",
        "WHERE visited_on IN (SELECT visited_on FROM Customer)"
      ],
      "metadata": {
        "id": "o9_SXeyelYpn"
      }
    }
  ]
}