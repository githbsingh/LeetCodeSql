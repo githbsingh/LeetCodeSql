{
  "nbformat": 4,
  "nbformat_minor": 0,
  "metadata": {
    "colab": {
      "provenance": [],
      "authorship_tag": "ABX9TyPKWsbMWWRR+8xze0XzLxQp",
      "include_colab_link": true
    },
    "kernelspec": {
      "name": "python3",
      "display_name": "Python 3"
    },
    "language_info": {
      "name": "python"
    }
  },
  "cells": [
    {
      "cell_type": "markdown",
      "metadata": {
        "id": "view-in-github",
        "colab_type": "text"
      },
      "source": [
        "<a href=\"https://colab.research.google.com/github/githbsingh/LeetCodeSql/blob/main/184_Department_Highest_Salary.ipynb\" target=\"_parent\"><img src=\"https://colab.research.google.com/assets/colab-badge.svg\" alt=\"Open In Colab\"/></a>"
      ]
    },
    {
      "cell_type": "code",
      "execution_count": null,
      "metadata": {
        "id": "rVXNV53VbBzy"
      },
      "outputs": [],
      "source": [
        "# Write your MySQL query statement below\n",
        "SELECT d.name as department, src.name  as Employee, Salary FROM (SELECT name, salary, departmentId FROM\n",
        "Employee WHERE (departmentId, salary) IN (SELECT departmentId, max(salary) as salary FROM Employee\n",
        "GROUP BY departmentId)) as src\n",
        "INNER JOIN Department d\n",
        "ON src.departmentId=d.id"
      ]
    }
  ]
}