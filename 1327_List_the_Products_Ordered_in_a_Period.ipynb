{
  "nbformat": 4,
  "nbformat_minor": 0,
  "metadata": {
    "colab": {
      "provenance": [],
      "authorship_tag": "ABX9TyPY49EXeuLLD+MKvb/kbRur",
      "include_colab_link": true
    },
    "kernelspec": {
      "name": "python3",
      "display_name": "Python 3"
    },
    "language_info": {
      "name": "python"
    }
  },
  "cells": [
    {
      "cell_type": "markdown",
      "metadata": {
        "id": "view-in-github",
        "colab_type": "text"
      },
      "source": [
        "<a href=\"https://colab.research.google.com/github/githbsingh/LeetCodeSql/blob/main/1327_List_the_Products_Ordered_in_a_Period.ipynb\" target=\"_parent\"><img src=\"https://colab.research.google.com/assets/colab-badge.svg\" alt=\"Open In Colab\"/></a>"
      ]
    },
    {
      "cell_type": "markdown",
      "source": [
        "#### 1327. List the Products Ordered in a Period\n",
        "#### SOL.\n",
        "SELECT product_name, tgt.unit FROM Products p\n",
        "INNER JOIN\n",
        "(SELECT product_id, sum(unit) as unit FROM Orders\n",
        "WHERE month(order_date) = 2 AND year(order_date) = 2020\n",
        "GROUP BY product_id HAVING sum(unit) >= 100) as tgt\n",
        "ON p.product_id = tgt.product_id"
      ],
      "metadata": {
        "id": "ATs_9zZYz8jd"
      }
    }
  ]
}