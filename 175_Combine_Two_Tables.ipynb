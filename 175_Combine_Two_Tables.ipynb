{
  "nbformat": 4,
  "nbformat_minor": 0,
  "metadata": {
    "colab": {
      "provenance": [],
      "authorship_tag": "ABX9TyOLmxNFEXkcR6b+cRuZJID9",
      "include_colab_link": true
    },
    "kernelspec": {
      "name": "python3",
      "display_name": "Python 3"
    },
    "language_info": {
      "name": "python"
    }
  },
  "cells": [
    {
      "cell_type": "markdown",
      "metadata": {
        "id": "view-in-github",
        "colab_type": "text"
      },
      "source": [
        "<a href=\"https://colab.research.google.com/github/githbsingh/LeetCodeSql/blob/main/175_Combine_Two_Tables.ipynb\" target=\"_parent\"><img src=\"https://colab.research.google.com/assets/colab-badge.svg\" alt=\"Open In Colab\"/></a>"
      ]
    },
    {
      "cell_type": "code",
      "execution_count": null,
      "metadata": {
        "id": "rVXNV53VbBzy"
      },
      "outputs": [],
      "source": [
        "SELECT p.firstName, p.lastName, a.city, a.state FROM\n",
        "Person p Left JOIN Address a\n",
        "on p.personId=a.personId"
      ]
    }
  ]
}