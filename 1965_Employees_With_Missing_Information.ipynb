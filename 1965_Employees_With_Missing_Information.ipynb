{
  "nbformat": 4,
  "nbformat_minor": 0,
  "metadata": {
    "colab": {
      "provenance": [],
      "authorship_tag": "ABX9TyO/ZUQ6jdNaH9shkuR10C3k"
    },
    "kernelspec": {
      "name": "python3",
      "display_name": "Python 3"
    },
    "language_info": {
      "name": "python"
    }
  },
  "cells": [
    {
      "cell_type": "code",
      "execution_count": null,
      "metadata": {
        "id": "RyJUZnnl00gY"
      },
      "outputs": [],
      "source": [
        "with cte as (SELECT emp.employee_id as employee_id FROM Employees emp INNER JOIN\n",
        "Salaries sal\n",
        "ON emp.employee_id=sal.employee_id)\n",
        "\n",
        "SELECT employee_id FROM Employees WHERE employee_id\n",
        "NOT IN (SELECT employee_id FROM cte)\n",
        "\n",
        "UNION\n",
        "\n",
        "SELECT employee_id FROM Salaries WHERE employee_id\n",
        "NOT IN (SELECT employee_id FROM cte)\n",
        "\n",
        "ORDER BY employee_id"
      ]
    }
  ]
}