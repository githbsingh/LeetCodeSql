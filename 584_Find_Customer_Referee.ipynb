{
  "nbformat": 4,
  "nbformat_minor": 0,
  "metadata": {
    "colab": {
      "provenance": [],
      "authorship_tag": "ABX9TyNt86vf7QwoO1OUOEvcElME",
      "include_colab_link": true
    },
    "kernelspec": {
      "name": "python3",
      "display_name": "Python 3"
    },
    "language_info": {
      "name": "python"
    }
  },
  "cells": [
    {
      "cell_type": "markdown",
      "metadata": {
        "id": "view-in-github",
        "colab_type": "text"
      },
      "source": [
        "<a href=\"https://colab.research.google.com/github/githbsingh/LeetCodeSql/blob/main/584_Find_Customer_Referee.ipynb\" target=\"_parent\"><img src=\"https://colab.research.google.com/assets/colab-badge.svg\" alt=\"Open In Colab\"/></a>"
      ]
    },
    {
      "cell_type": "markdown",
      "source": [
        "#### Write your MySQL query statement below\n",
        "SELECT name FROM Customer WHERE referee_id <> 2 or referee_id is null"
      ],
      "metadata": {
        "id": "W9shHZrBNpAf"
      }
    },
    {
      "cell_type": "code",
      "execution_count": null,
      "metadata": {
        "id": "A_W7GjazNg0U"
      },
      "outputs": [],
      "source": []
    }
  ]
}