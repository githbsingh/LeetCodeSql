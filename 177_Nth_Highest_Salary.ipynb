{
  "nbformat": 4,
  "nbformat_minor": 0,
  "metadata": {
    "colab": {
      "provenance": [],
      "authorship_tag": "ABX9TyP+i7BkZCfv0K1izMCxAxJG",
      "include_colab_link": true
    },
    "kernelspec": {
      "name": "python3",
      "display_name": "Python 3"
    },
    "language_info": {
      "name": "python"
    }
  },
  "cells": [
    {
      "cell_type": "markdown",
      "metadata": {
        "id": "view-in-github",
        "colab_type": "text"
      },
      "source": [
        "<a href=\"https://colab.research.google.com/github/githbsingh/LeetCodeSql/blob/main/177_Nth_Highest_Salary.ipynb\" target=\"_parent\"><img src=\"https://colab.research.google.com/assets/colab-badge.svg\" alt=\"Open In Colab\"/></a>"
      ]
    },
    {
      "cell_type": "code",
      "execution_count": null,
      "metadata": {
        "id": "rVXNV53VbBzy"
      },
      "outputs": [],
      "source": [
        "CREATE FUNCTION getNthHighestSalary(N INT) RETURNS INT\n",
        "BEGIN\n",
        "  RETURN (\n",
        "      # Write your MySQL query statement below.\n",
        "      SELECT salary FROM (SELECT distinct salary, dense_rank() over(order by salary desc) as seq_num FROM Employee) as src\n",
        "      WHERE seq_num = N AND (SELECT count(distinct salary) FROM EMPLOYEE) >= N\n",
        "\n",
        "  );\n",
        "END"
      ]
    }
  ]
}