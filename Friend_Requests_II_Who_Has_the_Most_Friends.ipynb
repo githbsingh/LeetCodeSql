{
  "nbformat": 4,
  "nbformat_minor": 0,
  "metadata": {
    "colab": {
      "provenance": [],
      "authorship_tag": "ABX9TyMjAJLtXfJ41uftDaO/yBxa",
      "include_colab_link": true
    },
    "kernelspec": {
      "name": "python3",
      "display_name": "Python 3"
    },
    "language_info": {
      "name": "python"
    }
  },
  "cells": [
    {
      "cell_type": "markdown",
      "metadata": {
        "id": "view-in-github",
        "colab_type": "text"
      },
      "source": [
        "<a href=\"https://colab.research.google.com/github/githbsingh/LeetCodeSql/blob/main/Friend_Requests_II_Who_Has_the_Most_Friends.ipynb\" target=\"_parent\"><img src=\"https://colab.research.google.com/assets/colab-badge.svg\" alt=\"Open In Colab\"/></a>"
      ]
    },
    {
      "cell_type": "markdown",
      "source": [
        "####\n",
        "SELECT requester_id as id, COUNT(*) AS num\n",
        "FROM (\n",
        "    SELECT requester_id FROM RequestAccepted\n",
        "    UNION ALL\n",
        "    SELECT accepter_id FROM RequestAccepted\n",
        ") AS all_people\n",
        "GROUP BY requester_id\n",
        "HAVING COUNT(*) = (\n",
        "    SELECT MAX(total_count)\n",
        "    FROM (\n",
        "        SELECT requester_id, COUNT(*) AS total_count\n",
        "        FROM (\n",
        "            SELECT requester_id FROM RequestAccepted\n",
        "            UNION ALL\n",
        "            SELECT accepter_id FROM RequestAccepted\n",
        "        ) AS all_people\n",
        "        GROUP BY requester_id\n",
        "    ) AS counts\n",
        ");\n"
      ],
      "metadata": {
        "id": "FIFeF4TgbO2Z"
      }
    }
  ]
}