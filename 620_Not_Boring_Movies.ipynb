{
  "nbformat": 4,
  "nbformat_minor": 0,
  "metadata": {
    "colab": {
      "provenance": [],
      "authorship_tag": "ABX9TyOmyA0Nrv6hE1sYzcXVfv/A",
      "include_colab_link": true
    },
    "kernelspec": {
      "name": "python3",
      "display_name": "Python 3"
    },
    "language_info": {
      "name": "python"
    }
  },
  "cells": [
    {
      "cell_type": "markdown",
      "metadata": {
        "id": "view-in-github",
        "colab_type": "text"
      },
      "source": [
        "<a href=\"https://colab.research.google.com/github/githbsingh/LeetCodeSql/blob/main/620_Not_Boring_Movies.ipynb\" target=\"_parent\"><img src=\"https://colab.research.google.com/assets/colab-badge.svg\" alt=\"Open In Colab\"/></a>"
      ]
    },
    {
      "cell_type": "markdown",
      "source": [
        "#### Q. 620. Not Boring Movies\n",
        "Sol. SELECT id, movie, description, rating FROM Cinema\n",
        "WHERE mod(id, 2) <> 0 AND description <> 'boring'\n",
        "ORDER BY rating desc"
      ],
      "metadata": {
        "id": "KMr_PyN4Qa4H"
      }
    }
  ]
}