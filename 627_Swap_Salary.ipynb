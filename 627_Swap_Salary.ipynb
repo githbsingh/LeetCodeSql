{
  "nbformat": 4,
  "nbformat_minor": 0,
  "metadata": {
    "colab": {
      "provenance": [],
      "authorship_tag": "ABX9TyPt0wAWv7KHeEmeaC/f4BFJ"
    },
    "kernelspec": {
      "name": "python3",
      "display_name": "Python 3"
    },
    "language_info": {
      "name": "python"
    }
  },
  "cells": [
    {
      "cell_type": "code",
      "execution_count": null,
      "metadata": {
        "id": "etUzpH4MGhyl"
      },
      "outputs": [],
      "source": [
        "# Write your MySQL query statement below\n",
        "UPDATE Salary\n",
        "SET sex =\n",
        "    CASE WHEN sex = 'm' THEN  'f'\n",
        "         WHEN sex = 'f' THEN 'm'\n",
        "         ELSE null\n",
        "    END"
      ]
    }
  ]
}