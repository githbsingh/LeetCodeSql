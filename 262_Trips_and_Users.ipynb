{
  "nbformat": 4,
  "nbformat_minor": 0,
  "metadata": {
    "colab": {
      "provenance": [],
      "authorship_tag": "ABX9TyOugXkknj6sq5/rtobTpjkb",
      "include_colab_link": true
    },
    "kernelspec": {
      "name": "python3",
      "display_name": "Python 3"
    },
    "language_info": {
      "name": "python"
    }
  },
  "cells": [
    {
      "cell_type": "markdown",
      "metadata": {
        "id": "view-in-github",
        "colab_type": "text"
      },
      "source": [
        "<a href=\"https://colab.research.google.com/github/githbsingh/LeetCodeSql/blob/main/262_Trips_and_Users.ipynb\" target=\"_parent\"><img src=\"https://colab.research.google.com/assets/colab-badge.svg\" alt=\"Open In Colab\"/></a>"
      ]
    },
    {
      "cell_type": "code",
      "execution_count": null,
      "metadata": {
        "id": "0SW93kcRrxTU"
      },
      "outputs": [],
      "source": [
        "# Write your MySQL query statement below\n",
        "with src as(\n",
        "SELECT request_at, status\n",
        "FROM Trips WHERE (client_id NOT IN (SELECT users_id FROM Users WHERE banned = 'Yes')\n",
        "AND driver_id NOT IN (SELECT users_id FROM Users WHERE banned = 'Yes')\n",
        ")AND request_at BETWEEN '2013-10-01' AND '2013-10-03')\n",
        ",\n",
        "\n",
        "totstat as(\n",
        "SELECT request_at, status, coalesce(count(*),0) as tot\n",
        "FROM src\n",
        "GROUP BY request_at, status\n",
        "HAVING status <> 'completed'),\n",
        "\n",
        "average as (\n",
        "    SELECT request_at, count(*) as tot\n",
        "    FROM src\n",
        "    GROUP BY request_at\n",
        ")\n",
        "\n",
        "SELECT average.request_at as Day, round((coalesce(totstat.tot,0.00))/average.tot,2)  \"Cancellation Rate\"  FROM totstat\n",
        "RIGHT JOIN average\n",
        "ON totstat.request_at=average.request_at"
      ]
    }
  ]
}