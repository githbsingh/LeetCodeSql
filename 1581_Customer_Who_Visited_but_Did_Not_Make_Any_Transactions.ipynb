{
  "nbformat": 4,
  "nbformat_minor": 0,
  "metadata": {
    "colab": {
      "provenance": [],
      "authorship_tag": "ABX9TyMRyp37EVw2bi3fIofuspPS",
      "include_colab_link": true
    },
    "kernelspec": {
      "name": "python3",
      "display_name": "Python 3"
    },
    "language_info": {
      "name": "python"
    }
  },
  "cells": [
    {
      "cell_type": "markdown",
      "metadata": {
        "id": "view-in-github",
        "colab_type": "text"
      },
      "source": [
        "<a href=\"https://colab.research.google.com/github/githbsingh/LeetCodeSql/blob/main/1581_Customer_Who_Visited_but_Did_Not_Make_Any_Transactions.ipynb\" target=\"_parent\"><img src=\"https://colab.research.google.com/assets/colab-badge.svg\" alt=\"Open In Colab\"/></a>"
      ]
    },
    {
      "cell_type": "markdown",
      "source": [
        "##### Q. 1581. Customer Who Visited but Did Not Make Any Transactions\n",
        "\n",
        "##### Sol: SELECT customer_id, count(customer_id) as count_no_trans FROM Visits v\n",
        "LEFT JOIN Transactions t\n",
        "ON v.visit_id = t.visit_id\n",
        "WHERE t.transaction_id is null\n",
        "GROUP BY customer_id\n"
      ],
      "metadata": {
        "id": "5KZ50Rk1rcDN"
      }
    }
  ]
}