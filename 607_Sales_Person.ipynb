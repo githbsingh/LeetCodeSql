{
  "nbformat": 4,
  "nbformat_minor": 0,
  "metadata": {
    "colab": {
      "provenance": [],
      "authorship_tag": "ABX9TyMo4Se5MR3mlA723lDW0AS2",
      "include_colab_link": true
    },
    "kernelspec": {
      "name": "python3",
      "display_name": "Python 3"
    },
    "language_info": {
      "name": "python"
    }
  },
  "cells": [
    {
      "cell_type": "markdown",
      "metadata": {
        "id": "view-in-github",
        "colab_type": "text"
      },
      "source": [
        "<a href=\"https://colab.research.google.com/github/githbsingh/LeetCodeSql/blob/main/607_Sales_Person.ipynb\" target=\"_parent\"><img src=\"https://colab.research.google.com/assets/colab-badge.svg\" alt=\"Open In Colab\"/></a>"
      ]
    },
    {
      "cell_type": "code",
      "execution_count": null,
      "metadata": {
        "id": "QyelhcvOM2Dt"
      },
      "outputs": [],
      "source": [
        "# Write your MySQL query statement below\n",
        "SELECT name FROM SalesPerson WHERE sales_id\n",
        "NOT IN (SELECT sales_id FROM Orders WHERE com_id IN\n",
        "(SELECT com_id FROM Company WHERE name = 'RED'))"
      ]
    }
  ]
}