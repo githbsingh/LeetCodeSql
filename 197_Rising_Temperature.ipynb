{
  "nbformat": 4,
  "nbformat_minor": 0,
  "metadata": {
    "colab": {
      "provenance": [],
      "authorship_tag": "ABX9TyNMc3gn90d0yRGy3JG/tpss",
      "include_colab_link": true
    },
    "kernelspec": {
      "name": "python3",
      "display_name": "Python 3"
    },
    "language_info": {
      "name": "python"
    }
  },
  "cells": [
    {
      "cell_type": "markdown",
      "metadata": {
        "id": "view-in-github",
        "colab_type": "text"
      },
      "source": [
        "<a href=\"https://colab.research.google.com/github/githbsingh/LeetCodeSql/blob/main/197_Rising_Temperature.ipynb\" target=\"_parent\"><img src=\"https://colab.research.google.com/assets/colab-badge.svg\" alt=\"Open In Colab\"/></a>"
      ]
    },
    {
      "cell_type": "markdown",
      "source": [
        "#### Q. 197. Rising Temperature\n",
        "SOL. SELECT id FROM (SELECT id, recordDate, temperature, LAG(temperature) OVER(order by recordDate) as temp,\n",
        "        DATEDIFF(recordDate, LAG(recordDate) OVER (ORDER BY recordDate)) AS date_gap FROM Weather) as src\n",
        "WHERE temperature > temp and date_gap =1"
      ],
      "metadata": {
        "id": "x1Uz9mibiqKa"
      }
    }
  ]
}