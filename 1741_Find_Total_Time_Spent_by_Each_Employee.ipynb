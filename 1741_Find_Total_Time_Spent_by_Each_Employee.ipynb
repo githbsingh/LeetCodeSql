{
  "nbformat": 4,
  "nbformat_minor": 0,
  "metadata": {
    "colab": {
      "provenance": [],
      "authorship_tag": "ABX9TyPSsR7Bmp9Kv4oH/mJdhe90"
    },
    "kernelspec": {
      "name": "python3",
      "display_name": "Python 3"
    },
    "language_info": {
      "name": "python"
    }
  },
  "cells": [
    {
      "cell_type": "code",
      "execution_count": null,
      "metadata": {
        "id": "ZnkP0o0cxAyk"
      },
      "outputs": [],
      "source": [
        "# Write your MySQL query statement below\n",
        "SELECT event_day as day, emp_id, sum(out_time) - sum(in_time) as total_time FROM Employees\n",
        "GROUP BY event_day, emp_id"
      ]
    }
  ]
}