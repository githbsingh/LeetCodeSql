{
  "nbformat": 4,
  "nbformat_minor": 0,
  "metadata": {
    "colab": {
      "provenance": [],
      "authorship_tag": "ABX9TyP7CoO+TwMcYXIxTOaiflZs",
      "include_colab_link": true
    },
    "kernelspec": {
      "name": "python3",
      "display_name": "Python 3"
    },
    "language_info": {
      "name": "python"
    }
  },
  "cells": [
    {
      "cell_type": "markdown",
      "metadata": {
        "id": "view-in-github",
        "colab_type": "text"
      },
      "source": [
        "<a href=\"https://colab.research.google.com/github/githbsingh/LeetCodeSql/blob/main/1378_Replace_Employee_ID_With_The_Unique_Identifier.ipynb\" target=\"_parent\"><img src=\"https://colab.research.google.com/assets/colab-badge.svg\" alt=\"Open In Colab\"/></a>"
      ]
    },
    {
      "cell_type": "markdown",
      "source": [
        "#### Q. 1378. Replace Employee ID With The Unique Identifier\n",
        "#### Sol.\n",
        "SELECT eu.unique_id, name FROM Employees e LEFT JOIN EmployeeUNI eu\n",
        "ON e.id = eu.id"
      ],
      "metadata": {
        "id": "3imYwEqYhjv4"
      }
    }
  ]
}