{
  "nbformat": 4,
  "nbformat_minor": 0,
  "metadata": {
    "colab": {
      "provenance": [],
      "authorship_tag": "ABX9TyOful7uyyj/xN9RT7AARcoE",
      "include_colab_link": true
    },
    "kernelspec": {
      "name": "python3",
      "display_name": "Python 3"
    },
    "language_info": {
      "name": "python"
    }
  },
  "cells": [
    {
      "cell_type": "markdown",
      "metadata": {
        "id": "view-in-github",
        "colab_type": "text"
      },
      "source": [
        "<a href=\"https://colab.research.google.com/github/githbsingh/LeetCodeSql/blob/main/1978_Employees_Whose_Manager_Left_the_Company.ipynb\" target=\"_parent\"><img src=\"https://colab.research.google.com/assets/colab-badge.svg\" alt=\"Open In Colab\"/></a>"
      ]
    },
    {
      "cell_type": "markdown",
      "source": [
        "#### Q. 1978. Employees Whose Manager Left the Company\n",
        "Sol. SELECT e1.employee_id FROM Employees e1\n",
        "WHERE e1.salary < 30000\n",
        "AND e1.manager_id NOT IN (SELECT employee_id FROM Employees)\n",
        "ORDER BY e1.employee_id"
      ],
      "metadata": {
        "id": "C_vwWxyJ4uDU"
      }
    }
  ]
}