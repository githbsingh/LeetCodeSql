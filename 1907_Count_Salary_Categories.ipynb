{
  "nbformat": 4,
  "nbformat_minor": 0,
  "metadata": {
    "colab": {
      "provenance": [],
      "authorship_tag": "ABX9TyM+2RIsAiJpuicr5fvmiqRn",
      "include_colab_link": true
    },
    "kernelspec": {
      "name": "python3",
      "display_name": "Python 3"
    },
    "language_info": {
      "name": "python"
    }
  },
  "cells": [
    {
      "cell_type": "markdown",
      "metadata": {
        "id": "view-in-github",
        "colab_type": "text"
      },
      "source": [
        "<a href=\"https://colab.research.google.com/github/githbsingh/LeetCodeSql/blob/main/1907_Count_Salary_Categories.ipynb\" target=\"_parent\"><img src=\"https://colab.research.google.com/assets/colab-badge.svg\" alt=\"Open In Colab\"/></a>"
      ]
    },
    {
      "cell_type": "markdown",
      "source": [
        "Sol. with categories as (\n",
        "    SELECT 'Low Salary' as category UNION ALL\n",
        "    SELECT 'Average Salary' UNION ALL\n",
        "    SELECT 'High Salary'\n",
        ")\n",
        "SELECT cat.category, coalesce(accounts_count, 0) accounts_count FROM categories cat LEFT JOIN (SELECT category, count(category) as accounts_count FROM (SELECT\n",
        "    CASE\n",
        "    WHEN income < 20000 THEN 'Low Salary'\n",
        "    WHEN income >= 20000 AND income <= 50000 THEN 'Average Salary'\n",
        "    WHEN income > 50000 THEN 'High Salary'\n",
        "    END as category\n",
        "FROM Accounts) tmp\n",
        "GROUP BY category) src\n",
        "ON cat.category=src.category"
      ],
      "metadata": {
        "id": "5zUxmZTWtFe3"
      }
    }
  ]
}