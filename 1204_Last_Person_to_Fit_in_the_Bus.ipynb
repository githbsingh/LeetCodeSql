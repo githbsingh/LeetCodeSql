{
  "nbformat": 4,
  "nbformat_minor": 0,
  "metadata": {
    "colab": {
      "provenance": [],
      "authorship_tag": "ABX9TyMJ9hO2Dkxbv1KjPkMeaImR",
      "include_colab_link": true
    },
    "kernelspec": {
      "name": "python3",
      "display_name": "Python 3"
    },
    "language_info": {
      "name": "python"
    }
  },
  "cells": [
    {
      "cell_type": "markdown",
      "metadata": {
        "id": "view-in-github",
        "colab_type": "text"
      },
      "source": [
        "<a href=\"https://colab.research.google.com/github/githbsingh/LeetCodeSql/blob/main/1204_Last_Person_to_Fit_in_the_Bus.ipynb\" target=\"_parent\"><img src=\"https://colab.research.google.com/assets/colab-badge.svg\" alt=\"Open In Colab\"/></a>"
      ]
    },
    {
      "cell_type": "markdown",
      "source": [
        "#### Q. 1204. Last Person to Fit in the Bus\n",
        "Sol. SELECT person_name FROM (SELECT\n",
        "    person_id,\n",
        "    person_name,\n",
        "    turn,\n",
        "    weight,\n",
        "    SUM(weight) OVER(ORDER BY turn ROWS BETWEEN UNBOUNDED PRECEDING AND CURRENT ROW) AS cum_weight\n",
        "FROM Queue\n",
        "ORDER BY turn) tmp\n",
        "WHERE cum_weight <=1000\n",
        "ORDER by cum_weight desc limit 1"
      ],
      "metadata": {
        "id": "LFVjCu_v0zhn"
      }
    }
  ]
}