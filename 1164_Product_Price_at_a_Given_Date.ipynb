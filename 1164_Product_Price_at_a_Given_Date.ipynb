{
  "nbformat": 4,
  "nbformat_minor": 0,
  "metadata": {
    "colab": {
      "provenance": [],
      "authorship_tag": "ABX9TyNIslNdXepoZVrHUahxtfPh",
      "include_colab_link": true
    },
    "kernelspec": {
      "name": "python3",
      "display_name": "Python 3"
    },
    "language_info": {
      "name": "python"
    }
  },
  "cells": [
    {
      "cell_type": "markdown",
      "metadata": {
        "id": "view-in-github",
        "colab_type": "text"
      },
      "source": [
        "<a href=\"https://colab.research.google.com/github/githbsingh/LeetCodeSql/blob/main/1164_Product_Price_at_a_Given_Date.ipynb\" target=\"_parent\"><img src=\"https://colab.research.google.com/assets/colab-badge.svg\" alt=\"Open In Colab\"/></a>"
      ]
    },
    {
      "cell_type": "markdown",
      "source": [
        "#### Q. 1164. Product Price at a Given Date\n",
        "Sol. SELECT distinct p.product_id, coalesce(src.new_price, 10) as price FROM Products p LEFT JOIN\n",
        "(SELECT product_id, new_price, change_date FROM (SELECT product_id, new_price, change_date,\n",
        "row_number() over(partition by product_id order by change_date desc) as row_num FROM Products\n",
        "WHERE change_date <= '2019-08-16') as src1\n",
        "WHERE row_num =1) as src\n",
        "ON p.product_id=src.product_id"
      ],
      "metadata": {
        "id": "B8b3pml4HdWN"
      }
    }
  ]
}