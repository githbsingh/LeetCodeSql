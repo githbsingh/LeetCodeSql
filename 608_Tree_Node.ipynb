{
  "nbformat": 4,
  "nbformat_minor": 0,
  "metadata": {
    "colab": {
      "provenance": [],
      "authorship_tag": "ABX9TyO/XzhR90XK+lyVu5gj8m2t",
      "include_colab_link": true
    },
    "kernelspec": {
      "name": "python3",
      "display_name": "Python 3"
    },
    "language_info": {
      "name": "python"
    }
  },
  "cells": [
    {
      "cell_type": "markdown",
      "metadata": {
        "id": "view-in-github",
        "colab_type": "text"
      },
      "source": [
        "<a href=\"https://colab.research.google.com/github/githbsingh/LeetCodeSql/blob/main/608_Tree_Node.ipynb\" target=\"_parent\"><img src=\"https://colab.research.google.com/assets/colab-badge.svg\" alt=\"Open In Colab\"/></a>"
      ]
    },
    {
      "cell_type": "code",
      "execution_count": null,
      "metadata": {
        "id": "etUzpH4MGhyl"
      },
      "outputs": [],
      "source": [
        "SELECT id,\n",
        "    CASE WHEN id and p_Id is null THEN 'Root'\n",
        "         WHEN id IN (SELECT p_id FROM Tree) THEN 'Inner'\n",
        "         ELSE 'Leaf' END as type FROM Tree"
      ]
    }
  ]
}