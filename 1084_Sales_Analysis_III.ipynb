{
  "nbformat": 4,
  "nbformat_minor": 0,
  "metadata": {
    "colab": {
      "provenance": [],
      "authorship_tag": "ABX9TyNskS2KosPjDPkejSoSkY6d",
      "include_colab_link": true
    },
    "kernelspec": {
      "name": "python3",
      "display_name": "Python 3"
    },
    "language_info": {
      "name": "python"
    }
  },
  "cells": [
    {
      "cell_type": "markdown",
      "metadata": {
        "id": "view-in-github",
        "colab_type": "text"
      },
      "source": [
        "<a href=\"https://colab.research.google.com/github/githbsingh/LeetCodeSql/blob/main/1084_Sales_Analysis_III.ipynb\" target=\"_parent\"><img src=\"https://colab.research.google.com/assets/colab-badge.svg\" alt=\"Open In Colab\"/></a>"
      ]
    },
    {
      "cell_type": "code",
      "execution_count": null,
      "metadata": {
        "id": "QyelhcvOM2Dt"
      },
      "outputs": [],
      "source": [
        "SELECT distinct product_id, product_name FROM Product WHERE product_id IN (SELECT product_id FROM Sales\n",
        "WHERE sale_date BETWEEN '2019-01-01' AND '2019-03-31' AND\n",
        "product_id NOT IN (SELECT product_id FROM Sales WHERE sale_date NOT BETWEEN\n",
        "'2019-01-01' AND '2019-03-31'))"
      ]
    }
  ]
}