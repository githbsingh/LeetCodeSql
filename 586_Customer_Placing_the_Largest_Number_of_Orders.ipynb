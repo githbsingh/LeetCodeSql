{
  "nbformat": 4,
  "nbformat_minor": 0,
  "metadata": {
    "colab": {
      "provenance": [],
      "authorship_tag": "ABX9TyPEfHBVSB1SjC5jljknkgpk",
      "include_colab_link": true
    },
    "kernelspec": {
      "name": "python3",
      "display_name": "Python 3"
    },
    "language_info": {
      "name": "python"
    }
  },
  "cells": [
    {
      "cell_type": "markdown",
      "metadata": {
        "id": "view-in-github",
        "colab_type": "text"
      },
      "source": [
        "<a href=\"https://colab.research.google.com/github/githbsingh/LeetCodeSql/blob/main/586_Customer_Placing_the_Largest_Number_of_Orders.ipynb\" target=\"_parent\"><img src=\"https://colab.research.google.com/assets/colab-badge.svg\" alt=\"Open In Colab\"/></a>"
      ]
    },
    {
      "cell_type": "code",
      "execution_count": null,
      "metadata": {
        "id": "HA9EilD5H6uu"
      },
      "outputs": [],
      "source": [
        "with cte as (SELECT customer_number, count(customer_number) as cnt_cust_number FROM Orders\n",
        "GROUP BY customer_number)\n",
        "\n",
        "SELECT customer_number FROM cte WHERE\n",
        "cnt_cust_number = (SELECT max(cnt_cust_number) FROM cte)"
      ]
    }
  ]
}