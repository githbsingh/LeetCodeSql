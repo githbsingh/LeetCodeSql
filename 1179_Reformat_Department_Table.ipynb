{
  "nbformat": 4,
  "nbformat_minor": 0,
  "metadata": {
    "colab": {
      "provenance": [],
      "authorship_tag": "ABX9TyOFIlxKWm8/XlgTqVNTE8b0"
    },
    "kernelspec": {
      "name": "python3",
      "display_name": "Python 3"
    },
    "language_info": {
      "name": "python"
    }
  },
  "cells": [
    {
      "cell_type": "code",
      "execution_count": null,
      "metadata": {
        "id": "oC0qDo4KJysE"
      },
      "outputs": [],
      "source": [
        "# Write your MySQL query statement below\n",
        "SELECT id,\n",
        "MAX(CASE WHEN month='Jan' THEN revenue ELSE null END) as Jan_Revenue,\n",
        "MAX(CASE WHEN month='Feb' THEN revenue ELSE null END) as Feb_Revenue,\n",
        "MAX(CASE WHEN month='Mar' THEN revenue ELSE null END) as Mar_Revenue,\n",
        "MAX(CASE WHEN month='Apr' THEN revenue ELSE null END) as Apr_Revenue,\n",
        "MAX(CASE WHEN month='May' THEN revenue ELSE null END) as May_Revenue,\n",
        "MAX(CASE WHEN month='Jun' THEN revenue ELSE null END) as Jun_Revenue,\n",
        "MAX(CASE WHEN month='Jul' THEN revenue ELSE null END) as Jul_Revenue,\n",
        "MAX(CASE WHEN month='Aug' THEN revenue ELSE null END) as Aug_Revenue,\n",
        "MAX(CASE WHEN month='Sep' THEN revenue ELSE null END) as Sep_Revenue,\n",
        "MAX(CASE WHEN month='Oct' THEN revenue ELSE null END) as Oct_Revenue,\n",
        "MAX(CASE WHEN month='Nov' THEN revenue ELSE null END) as Nov_Revenue,\n",
        "MAX(CASE WHEN month='Dec' THEN revenue ELSE null END) as Dec_Revenue\n",
        "FROM Department\n",
        "GROUP BY id"
      ]
    }
  ]
}