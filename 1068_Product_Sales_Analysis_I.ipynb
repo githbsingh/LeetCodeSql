{
  "nbformat": 4,
  "nbformat_minor": 0,
  "metadata": {
    "colab": {
      "provenance": [],
      "authorship_tag": "ABX9TyNu2AkzG/iiIBF35LUgxEEw",
      "include_colab_link": true
    },
    "kernelspec": {
      "name": "python3",
      "display_name": "Python 3"
    },
    "language_info": {
      "name": "python"
    }
  },
  "cells": [
    {
      "cell_type": "markdown",
      "metadata": {
        "id": "view-in-github",
        "colab_type": "text"
      },
      "source": [
        "<a href=\"https://colab.research.google.com/github/githbsingh/LeetCodeSql/blob/main/1068_Product_Sales_Analysis_I.ipynb\" target=\"_parent\"><img src=\"https://colab.research.google.com/assets/colab-badge.svg\" alt=\"Open In Colab\"/></a>"
      ]
    },
    {
      "cell_type": "markdown",
      "source": [
        "#### Q. 1068. Product Sales Analysis I\n",
        "SELECT p.product_name, year, price FROM Sales s LEFT JOIN\n",
        "Product p ON s.product_id=p.product_id"
      ],
      "metadata": {
        "id": "PT0UgvWXof6v"
      }
    }
  ]
}