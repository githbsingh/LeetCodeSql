{
  "nbformat": 4,
  "nbformat_minor": 0,
  "metadata": {
    "colab": {
      "provenance": [],
      "authorship_tag": "ABX9TyPTM+LfVyhTdy3OEdIMVgJ+",
      "include_colab_link": true
    },
    "kernelspec": {
      "name": "python3",
      "display_name": "Python 3"
    },
    "language_info": {
      "name": "python"
    }
  },
  "cells": [
    {
      "cell_type": "markdown",
      "metadata": {
        "id": "view-in-github",
        "colab_type": "text"
      },
      "source": [
        "<a href=\"https://colab.research.google.com/github/githbsingh/LeetCodeSql/blob/main/585_Investments_in_2016.ipynb\" target=\"_parent\"><img src=\"https://colab.research.google.com/assets/colab-badge.svg\" alt=\"Open In Colab\"/></a>"
      ]
    },
    {
      "cell_type": "markdown",
      "source": [
        "#### 585. Investments in 2016\n",
        "#### Sol.\n",
        "with t_2015 as (\n",
        "    SELECT tiv_2015 FROM Insurance GROUP BY tiv_2015\n",
        "    HAVING count(*) > 1\n",
        ")\n",
        "\n",
        "SELECT round(SUM(tiv_2016),2) as tiv_2016 FROM Insurance WHERE tiv_2015 IN (SELECT tiv_2015 FROm t_2015)\n",
        "AND (lat,lon) IN (SELECT lat,lon FROM Insurance\n",
        "GROUP BY lat,lon HAVING count(*) = 1)"
      ],
      "metadata": {
        "id": "WJimcCQILF93"
      }
    },
    {
      "cell_type": "code",
      "execution_count": null,
      "metadata": {
        "id": "usvYgT_ELABz"
      },
      "outputs": [],
      "source": []
    }
  ]
}