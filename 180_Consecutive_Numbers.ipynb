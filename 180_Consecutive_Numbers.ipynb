{
  "nbformat": 4,
  "nbformat_minor": 0,
  "metadata": {
    "colab": {
      "provenance": [],
      "authorship_tag": "ABX9TyNJvMpqUjZpN7W5HU9C8Ifw",
      "include_colab_link": true
    },
    "kernelspec": {
      "name": "python3",
      "display_name": "Python 3"
    },
    "language_info": {
      "name": "python"
    }
  },
  "cells": [
    {
      "cell_type": "markdown",
      "metadata": {
        "id": "view-in-github",
        "colab_type": "text"
      },
      "source": [
        "<a href=\"https://colab.research.google.com/github/githbsingh/LeetCodeSql/blob/main/180_Consecutive_Numbers.ipynb\" target=\"_parent\"><img src=\"https://colab.research.google.com/assets/colab-badge.svg\" alt=\"Open In Colab\"/></a>"
      ]
    },
    {
      "cell_type": "markdown",
      "source": [
        "#### Q. 180. Consecutive Numbers\n",
        "Sol. SELECT distinct num as ConsecutiveNums FROM (SELECT id, num, lead(num) over(order by id) as prev_num,\n",
        "lag(num) over(order by id) as next_num FROM logs) as src\n",
        "WHERE num = src.prev_num and num = next_num;"
      ],
      "metadata": {
        "id": "GNO8Zw0fm658"
      }
    }
  ]
}