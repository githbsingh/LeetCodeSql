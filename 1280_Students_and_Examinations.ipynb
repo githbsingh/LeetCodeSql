{
  "nbformat": 4,
  "nbformat_minor": 0,
  "metadata": {
    "colab": {
      "provenance": [],
      "authorship_tag": "ABX9TyO66VP5sCkY31hJ8pJP0vpo",
      "include_colab_link": true
    },
    "kernelspec": {
      "name": "python3",
      "display_name": "Python 3"
    },
    "language_info": {
      "name": "python"
    }
  },
  "cells": [
    {
      "cell_type": "markdown",
      "metadata": {
        "id": "view-in-github",
        "colab_type": "text"
      },
      "source": [
        "<a href=\"https://colab.research.google.com/github/githbsingh/LeetCodeSql/blob/main/1280_Students_and_Examinations.ipynb\" target=\"_parent\"><img src=\"https://colab.research.google.com/assets/colab-badge.svg\" alt=\"Open In Colab\"/></a>"
      ]
    },
    {
      "cell_type": "markdown",
      "source": [
        "#### Q. 1280. Students and Examinations\n",
        "Sol. SELECT src.student_id, src.student_name, src.subject_name, coalesce(tgt.attended_exams, 0) as attended_exams\n",
        "FROM (SELECT s.student_id as student_id, s.student_name as student_name,\n",
        "subject_name FROM Students s CROSS JOIN Subjects) as src LEFT JOIN\n",
        "(SELECT student_id, subject_name, count(*) as attended_exams  FROM Examinations\n",
        "GROUP BY student_id, subject_name) as tgt\n",
        "ON src.student_id=tgt.student_id and src.subject_name=tgt.subject_name\n",
        "ORDER BY src.student_id, src.subject_name"
      ],
      "metadata": {
        "id": "q4uPxYJzvbqd"
      }
    }
  ]
}