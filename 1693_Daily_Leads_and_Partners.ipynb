{
  "nbformat": 4,
  "nbformat_minor": 0,
  "metadata": {
    "colab": {
      "provenance": [],
      "authorship_tag": "ABX9TyNvRU1SElqh656A3ioPwpWO"
    },
    "kernelspec": {
      "name": "python3",
      "display_name": "Python 3"
    },
    "language_info": {
      "name": "python"
    }
  },
  "cells": [
    {
      "cell_type": "code",
      "execution_count": null,
      "metadata": {
        "id": "NE3vOeqqvEo4"
      },
      "outputs": [],
      "source": [
        "SELECT date_id, make_name, count(distinct lead_id) as unique_leads, count(distinct partner_id) as unique_partners\n",
        "FROM DailySales GROUP BY date_id, make_name;"
      ]
    }
  ]
}