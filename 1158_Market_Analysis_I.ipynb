{
  "nbformat": 4,
  "nbformat_minor": 0,
  "metadata": {
    "colab": {
      "provenance": [],
      "authorship_tag": "ABX9TyOx37ncGRxdXT8HDdQvkbti",
      "include_colab_link": true
    },
    "kernelspec": {
      "name": "python3",
      "display_name": "Python 3"
    },
    "language_info": {
      "name": "python"
    }
  },
  "cells": [
    {
      "cell_type": "markdown",
      "metadata": {
        "id": "view-in-github",
        "colab_type": "text"
      },
      "source": [
        "<a href=\"https://colab.research.google.com/github/githbsingh/LeetCodeSql/blob/main/1158_Market_Analysis_I.ipynb\" target=\"_parent\"><img src=\"https://colab.research.google.com/assets/colab-badge.svg\" alt=\"Open In Colab\"/></a>"
      ]
    },
    {
      "cell_type": "code",
      "execution_count": null,
      "metadata": {
        "id": "QyelhcvOM2Dt"
      },
      "outputs": [],
      "source": [
        "# Write your MySQL query statement below\n",
        "SELECT u.user_id as buyer_id, u.join_date, coalesce(src.orders_in_2019, 0) as orders_in_2019\n",
        "FROM Users u LEFT JOIN (SELECT buyer_id, count(*) as orders_in_2019 FROM Orders\n",
        "WHERE YEAR(order_date)='2019'\n",
        "GROUP BY buyer_id) as src\n",
        "ON u.user_id=src.buyer_id"
      ]
    }
  ]
}