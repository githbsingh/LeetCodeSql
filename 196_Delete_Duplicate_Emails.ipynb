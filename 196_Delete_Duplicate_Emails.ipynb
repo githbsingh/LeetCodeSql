{
  "nbformat": 4,
  "nbformat_minor": 0,
  "metadata": {
    "colab": {
      "provenance": [],
      "authorship_tag": "ABX9TyOQuMBJQGXoCYdHkJVRQMfF",
      "include_colab_link": true
    },
    "kernelspec": {
      "name": "python3",
      "display_name": "Python 3"
    },
    "language_info": {
      "name": "python"
    }
  },
  "cells": [
    {
      "cell_type": "markdown",
      "metadata": {
        "id": "view-in-github",
        "colab_type": "text"
      },
      "source": [
        "<a href=\"https://colab.research.google.com/github/githbsingh/LeetCodeSql/blob/main/196_Delete_Duplicate_Emails.ipynb\" target=\"_parent\"><img src=\"https://colab.research.google.com/assets/colab-badge.svg\" alt=\"Open In Colab\"/></a>"
      ]
    },
    {
      "cell_type": "markdown",
      "source": [
        "#### 196. Delete Duplicate Emails\n",
        "#### SOL.\n",
        "DELETE FROM Person WHERE id IN(\n",
        "SELECT id FROM (SELECT id, email, row_number() over(partition by email order by id) as seq_num\n",
        "FROM Person) as src\n",
        "WHERE seq_num <>1)"
      ],
      "metadata": {
        "id": "_0TSsmSCw9Fl"
      }
    }
  ]
}