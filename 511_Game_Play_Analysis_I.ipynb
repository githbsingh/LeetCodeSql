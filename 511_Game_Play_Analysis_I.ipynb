{
  "nbformat": 4,
  "nbformat_minor": 0,
  "metadata": {
    "colab": {
      "provenance": [],
      "authorship_tag": "ABX9TyOAqlOjBFr12SMGjoISeMpx"
    },
    "kernelspec": {
      "name": "python3",
      "display_name": "Python 3"
    },
    "language_info": {
      "name": "python"
    }
  },
  "cells": [
    {
      "cell_type": "code",
      "execution_count": null,
      "metadata": {
        "id": "6M4UO7QUKGSC"
      },
      "outputs": [],
      "source": [
        "SELECT player_id, event_date as first_login FROM (SELECT player_id, event_date, row_number() over(partition by player_id order by event_date asc) as seq_nm\n",
        "FROM Activity) as src\n",
        "WHERE seq_nm = 1"
      ]
    }
  ]
}