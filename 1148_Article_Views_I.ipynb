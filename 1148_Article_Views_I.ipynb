{
  "nbformat": 4,
  "nbformat_minor": 0,
  "metadata": {
    "colab": {
      "provenance": [],
      "authorship_tag": "ABX9TyOBykn7lMta7XPNro9DB97b",
      "include_colab_link": true
    },
    "kernelspec": {
      "name": "python3",
      "display_name": "Python 3"
    },
    "language_info": {
      "name": "python"
    }
  },
  "cells": [
    {
      "cell_type": "markdown",
      "metadata": {
        "id": "view-in-github",
        "colab_type": "text"
      },
      "source": [
        "<a href=\"https://colab.research.google.com/github/githbsingh/LeetCodeSql/blob/main/1148_Article_Views_I.ipynb\" target=\"_parent\"><img src=\"https://colab.research.google.com/assets/colab-badge.svg\" alt=\"Open In Colab\"/></a>"
      ]
    },
    {
      "cell_type": "markdown",
      "source": [
        "#### Q. 1148. Article Views I\n",
        "#### Sol:\n",
        "SELECT distinct id FROM (SELECT\n",
        "CASE WHEN author_id = viewer_id and author_id IS NOT NULL THEN author_id END as id\n",
        "FROM Views) as src\n",
        "WHERE id IS NOT NULL\n",
        "ORDER BY id"
      ],
      "metadata": {
        "id": "rMaRbLwaghlR"
      }
    }
  ]
}