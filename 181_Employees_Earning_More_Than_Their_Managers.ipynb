{
  "nbformat": 4,
  "nbformat_minor": 0,
  "metadata": {
    "colab": {
      "provenance": [],
      "authorship_tag": "ABX9TyOcYw00lfJ209E8tRrRTixF",
      "include_colab_link": true
    },
    "kernelspec": {
      "name": "python3",
      "display_name": "Python 3"
    },
    "language_info": {
      "name": "python"
    }
  },
  "cells": [
    {
      "cell_type": "markdown",
      "metadata": {
        "id": "view-in-github",
        "colab_type": "text"
      },
      "source": [
        "<a href=\"https://colab.research.google.com/github/githbsingh/LeetCodeSql/blob/main/181_Employees_Earning_More_Than_Their_Managers.ipynb\" target=\"_parent\"><img src=\"https://colab.research.google.com/assets/colab-badge.svg\" alt=\"Open In Colab\"/></a>"
      ]
    },
    {
      "cell_type": "code",
      "execution_count": null,
      "metadata": {
        "id": "2fxhtCwD7fdC"
      },
      "outputs": [],
      "source": [
        "SELECT e2.name as Employee FROM Employee e1\n",
        "INNER JOIN\n",
        "Employee e2\n",
        "ON e1.id=e2.managerId\n",
        "WHERE e2.salary > e1.salary"
      ]
    }
  ]
}